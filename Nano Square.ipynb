{
 "metadata": {
  "language_info": {
   "codemirror_mode": {
    "name": "ipython",
    "version": 3
   },
   "file_extension": ".py",
   "mimetype": "text/x-python",
   "name": "python",
   "nbconvert_exporter": "python",
   "pygments_lexer": "ipython3",
   "version": "3.8.0"
  },
  "orig_nbformat": 2,
  "kernelspec": {
   "name": "python3",
   "display_name": "Python 3.8.0 64-bit ('.venv': venv)"
  },
  "metadata": {
   "interpreter": {
    "hash": "3f51cb7c77d18eeae37d8743e6a8965b321790527a9d46ec999dcb7b2a990bf5"
   }
  },
  "interpreter": {
   "hash": "6926c7f1321ca1fe5bb091ffa85bfd2f1967eb96b033dfa3a772fcfece283da3"
  }
 },
 "nbformat": 4,
 "nbformat_minor": 2,
 "cells": [
  {
   "cell_type": "markdown",
   "source": [
    "# Goal\n",
    "\n",
    "The goal of this notebook is to compare the efficiency, measured in flops per watt, of the different GPU frequencies that the Nano allows."
   ],
   "metadata": {}
  },
  {
   "cell_type": "code",
   "execution_count": 1,
   "source": [
    "# Data Preprocessing\n",
    "\n",
    "import os\n",
    "\n",
    "path = \"./data/Nano/square_all_frequency/\"\n",
    "files = os.listdir(path)\n",
    "\n",
    "data = []\n",
    "\n",
    "for file_name in files:\n",
    "    temp = {\n",
    "        # Inputs\n",
    "        \"device\": \"\",\n",
    "        \"datatype\": \"\",\n",
    "        \"matrix_size\": -1,\n",
    "        \"tensor\": None,\n",
    "        \"gpu_frequency\": -1,\n",
    "\n",
    "        # Results\n",
    "        \"power_usage\": [],\n",
    "        \"flops\": -1,\n",
    "        \n",
    "        # Calculated Results\n",
    "        \"avg_power\": -1,\n",
    "        \"flops_per_watt\": -1\n",
    "    }\n",
    "    with open(path+file_name, \"r\") as f:\n",
    "        temp['device'], temp['datatype'], temp['matrix_size'], temp['tensor'], temp['gpu_frequency'] = file_name.split(\".\")[0].split(\"-\")\n",
    "        temp['matrix_size'] = float(temp['matrix_size'])\n",
    "        temp['tensor'] = True if temp['tensor'].lower() == \"tensor\" else False\n",
    "        temp['gpu_frequency'] = float(temp['gpu_frequency'])\n",
    "\n",
    "        file_data = f.readlines()\n",
    "\n",
    "        _, temp['power_usage'] = zip(*[d.strip().split(\",\") for d in file_data[:-1]])\n",
    "        temp['power_usage'] = list(map(float, temp['power_usage']))\n",
    "        temp['avg_power'] = sum(temp['power_usage'])/len(temp['power_usage'])\n",
    "\n",
    "        temp['flops'] = float(file_data[-1])\n",
    "\n",
    "        temp['flops_per_watt'] = temp['flops'] / temp['avg_power']\n",
    "    \n",
    "    data.append(temp)"
   ],
   "outputs": [],
   "metadata": {
    "tags": []
   }
  },
  {
   "cell_type": "code",
   "execution_count": 2,
   "source": [
    "import matplotlib.pyplot as plt\n",
    "import numpy as np\n",
    "%matplotlib widget\n",
    "import ipywidgets as widgets\n",
    "from IPython.display import display\n",
    "plt.ion()\n",
    "\n",
    "y_opt = widgets.Dropdown(options=[\"avg_power\", \"flops\", \"flops_per_watt\"], value=\"flops_per_watt\", description=\"y axis\")\n",
    "\n",
    "output = widgets.Output()\n",
    "\n",
    "fig, ax = plt.subplots(1, 1, figsize=(10, 7), sharey=True, sharex=True)\n",
    "\n",
    "search = {\n",
    "    \"datatype\": 'float',\n",
    "    \"gpu_frequency\": 0,\n",
    "    \"tensor\": True\n",
    "}\n",
    "\n",
    "search_x = \"matrix_size\"\n",
    "search_y = y_opt.value\n",
    "\n",
    "def refresh_values():\n",
    "    ax.grid(axis='y')\n",
    "    ax.set_title(\"Flops per Watt by Matrix Size\")\n",
    "    ax.set_xlabel(\"Columns\")\n",
    "    ax.set_ylabel(\"Flops per Watt\")\n",
    "    ax.set_axisbelow(True)\n",
    "    for idx, f in enumerate([76800000, 153600000, 230400000, 307200000, 384000000, 460800000, 537600000, 614400000, 691200000, 768000000, 844800000, 921600000]):\n",
    "        search[\"gpu_frequency\"] = f\n",
    "        filtered = [d for d in data if search.items() <= d.items()]\n",
    "        x, y = zip(*sorted([(r[search_x], r[search_y]) for r in filtered], key=lambda d : d[0]))\n",
    "        ax.plot(x, y, label=f\"{f/1e9:.2f} GHz\", linestyle='-' if f > 614400000 else '--' if f > 307200000 else '-.')\n",
    "        ax.set_xticks(np.arange(0, 2049, 128))\n",
    "        ax.legend(loc=\"upper left\")\n",
    "\n",
    "def update_y(change):\n",
    "    global search_y\n",
    "    search_y = change[\"new\"]\n",
    "    ax.clear()\n",
    "    if (change[\"new\"] == \"flops\"):\n",
    "        ax.set_yticks(np.arange(0, 3e11, 1e11))\n",
    "    elif (change[\"new\"] == \"flops_per_watt\"):\n",
    "        ax.set_yticks(np.arange(0, 200e9, 50e9))\n",
    "        pass\n",
    "    else:\n",
    "        ax.set_yticks(np.arange(0, 11, 1))\n",
    "    refresh_values()\n",
    "\n",
    "y_opt.observe(update_y, names=\"value\")\n",
    "\n",
    "display(\n",
    "    widgets.HBox([\n",
    "        widgets.VBox([y_opt]),\n",
    "        widgets.VBox([output])\n",
    "    ])\n",
    ")\n",
    "\n",
    "refresh_values()\n",
    "plt.show()"
   ],
   "outputs": [
    {
     "output_type": "display_data",
     "data": {
      "application/vnd.jupyter.widget-view+json": {
       "version_major": 2,
       "version_minor": 0,
       "model_id": "b312eb23a8ef4551bf7384fc8a4a2490"
      },
      "text/plain": [
       "Canvas(toolbar=Toolbar(toolitems=[('Home', 'Reset original view', 'home', 'home'), ('Back', 'Back to previous …"
      ]
     },
     "metadata": {}
    },
    {
     "output_type": "display_data",
     "data": {
      "application/vnd.jupyter.widget-view+json": {
       "version_major": 2,
       "version_minor": 0,
       "model_id": "bce0142be8eb4db89f278c9f9931f448"
      },
      "text/plain": [
       "HBox(children=(VBox(children=(Dropdown(description='y axis', index=2, options=('avg_power', 'flops', 'flops_pe…"
      ]
     },
     "metadata": {}
    }
   ],
   "metadata": {}
  },
  {
   "cell_type": "code",
   "execution_count": 5,
   "source": [
    "fig, ax = plt.subplots(1, 1, figsize=(15, 10), sharey=True, sharex=True)\n",
    "\n",
    "ax.set_axisbelow(True)\n",
    "ax.grid(axis='y')\n",
    "ax.set_title(f\"Flops/Watt by Frequency by Matrix Size\")\n",
    "ax.set_xlabel(\"Frequency MHz\")\n",
    "ax.set_ylabel(\"Flops Per Watt\")\n",
    "\n",
    "\n",
    "search = {\n",
    "    \"datatype\": 'float',\n",
    "    \"matrix_size\": 0,\n",
    "    \"tensor\": True\n",
    "}\n",
    "\n",
    "for col_size in range(64, 2049, 64):\n",
    "  search['matrix_size'] = col_size\n",
    "  filtered = [d for d in data if search.items() <= d.items()]\n",
    "  x, y = zip(*sorted([(str(r[\"gpu_frequency\"]/1000000), r[\"flops_per_watt\"]) for r in filtered], key=lambda d : float(d[0])))\n",
    "  ax.plot(x, y, label=f\"{col_size}\", linestyle='-' if col_size > 1408 else '--' if col_size > 704 else '-.')\n",
    "\n",
    "ax.legend(loc=\"upper left\")\n",
    "\n",
    "plt.show()"
   ],
   "outputs": [
    {
     "output_type": "display_data",
     "data": {
      "application/vnd.jupyter.widget-view+json": {
       "version_major": 2,
       "version_minor": 0,
       "model_id": "cc6d4e116620460385a4ede7d70ff65a"
      },
      "text/plain": [
       "Canvas(toolbar=Toolbar(toolitems=[('Home', 'Reset original view', 'home', 'home'), ('Back', 'Back to previous …"
      ]
     },
     "metadata": {}
    }
   ],
   "metadata": {}
  },
  {
   "cell_type": "code",
   "execution_count": 4,
   "source": [
    "matrix_size = 2048\n",
    "\n",
    "search = {\n",
    "    \"datatype\": \"float\",\n",
    "    \"matrix_size\": matrix_size,\n",
    "    \"tensor\": True,\n",
    "    # \"gpu_frequency\": -1 // This is the x-axis\n",
    "}\n",
    "\n",
    "filtered = [d for d in data if search.items() <= d.items()]\n",
    "x, y = zip(*sorted([(d['gpu_frequency'], d['flops_per_watt']) for d in filtered], key=lambda d : d[0]))\n",
    "\n",
    "\n",
    "fig, ax = plt.subplots(figsize=(15, 7))\n",
    "ax.set_axisbelow(True)\n",
    "ax.grid(axis='y')\n",
    "ax.set_title(\"Flops per Watt (Square, absolute performance)\")\n",
    "ax.set_xlabel(\"Frequency (MHz)\")\n",
    "ax.set_ylabel(\"Flops/Watt\")\n",
    "\n",
    "plt.bar([str(xx) for xx in x], y, bottom=0, tick_label=[int(tx/1e6) for tx in x])\n",
    "\n",
    "\n",
    "\n",
    "fig, ax = plt.subplots(figsize=(15, 7))\n",
    "ax.set_axisbelow(True)\n",
    "ax.grid(axis='y')\n",
    "ax.set_title(\"Flops per Watt (Square, normalized performance)\")\n",
    "ax.set_xlabel(\"Frequency (MHz)\")\n",
    "ax.set_ylabel(\"Flops/Watt\")\n",
    "\n",
    "plt.bar([str(xx) for xx in x], [(yy/y[-1]) for yy in y], bottom=0, tick_label=[int(tx/1e6) for tx in x])\n"
   ],
   "outputs": [
    {
     "output_type": "display_data",
     "data": {
      "application/vnd.jupyter.widget-view+json": {
       "version_major": 2,
       "version_minor": 0,
       "model_id": "944af8ff27a945d79408a5f3cf70bac0"
      },
      "text/plain": [
       "Canvas(toolbar=Toolbar(toolitems=[('Home', 'Reset original view', 'home', 'home'), ('Back', 'Back to previous …"
      ]
     },
     "metadata": {}
    },
    {
     "output_type": "display_data",
     "data": {
      "application/vnd.jupyter.widget-view+json": {
       "version_major": 2,
       "version_minor": 0,
       "model_id": "e86397bd4c9243f09074ce85b51ffd9d"
      },
      "text/plain": [
       "Canvas(toolbar=Toolbar(toolitems=[('Home', 'Reset original view', 'home', 'home'), ('Back', 'Back to previous …"
      ]
     },
     "metadata": {}
    },
    {
     "output_type": "execute_result",
     "data": {
      "text/plain": [
       "<BarContainer object of 12 artists>"
      ]
     },
     "metadata": {},
     "execution_count": 4
    }
   ],
   "metadata": {}
  }
 ]
}