{
 "cells": [
  {
   "cell_type": "code",
   "execution_count": 1,
   "source": [
    "import matplotlib.pyplot as plt\n",
    "\n",
    "frequency = \"921600000\"\n",
    "\n",
    "# Batch Size,Concurrency,Inferences/Second,Client Send,Network+Server Send/Recv,Server Queue,Server Compute Input,Server Compute Infer,Server Compute Output,Client Recv,p50 latency,p90 latency,p95 latency,p99 latency\n",
    "gpu_data = []\n",
    "gpu_power_data = []\n",
    "gpu_timings = []\n",
    "\n",
    "# GPU\n",
    "with open(f\"data/{frequency}_data.csv\", \"r\") as f:\n",
    "  gpu_data = [l.strip().split(\",\") for l in f.readlines()[1:]]\n",
    "\n",
    "with open(f\"data/{frequency}_power.csv\", \"r\") as f:\n",
    "  gpu_power_data = [l.strip().split(\",\") for l in f.readlines()]\n",
    "\n",
    "with open(f\"data/{frequency}_timings.csv\", \"r\") as f:\n",
    "  gpu_timings = [l.strip().split(\",\") for l in f.readlines()[1:]]\n",
    "\n",
    "\n",
    "dla_data = []\n",
    "dla_power_data = []\n",
    "dla_timings = []\n",
    "\n",
    "# DLA\n",
    "with open(f\"data/dla_data.csv\", \"r\") as f:\n",
    "  dla_data = [l.strip().split(\",\") for l in f.readlines()[1:]]\n",
    "\n",
    "with open(f\"data/dla_power.csv\", \"r\") as f:\n",
    "  dla_power_data = [l.strip().split(\",\") for l in f.readlines()[1:]]\n",
    "\n",
    "with open(f\"data/dla_timings.csv\", \"r\") as f:\n",
    "  dla_timings = [l.strip().split(\",\") for l in f.readlines()[1:]]\n",
    "\n",
    "\n",
    "dla_power = [p for p in dla_power_data if p[0] > dla_timings[0][0] and p[0] < dla_timings[0][1]]\n",
    "avg_dla_power = sum([float(r[1]) for r in dla_power])/len(dla_power)\n",
    "joule_per_inference = avg_dla_power / float(dla_data[0][2])\n",
    "\n",
    "\n",
    "x = ['TRT']\n",
    "y = [joule_per_inference*1000]\n",
    "\n",
    "for start, stop, batch_size in gpu_timings:\n",
    "  power = [p for p in gpu_power_data if p[0] > start and p[0] < stop]\n",
    "  d = [d for d in gpu_data if d[0] == batch_size][0]\n",
    "  avg_power = sum([float(r[1]) for r in power])/len(power)\n",
    "  joule_per_inference = avg_power / float(d[2])\n",
    "\n",
    "  x.append(batch_size)\n",
    "  y.append(joule_per_inference*1000)\n",
    "\n",
    "fig, ax = plt.subplots(figsize=(15, 7))\n",
    "ax.set_axisbelow(True)\n",
    "ax.grid(axis='y')\n",
    "ax.set_title(\"Energy Usage per Inference (Lower is better)\")\n",
    "ax.set_xlabel(\"Batch Size\")\n",
    "ax.set_ylabel(\"Energy(mJ) per Inference\")\n",
    "\n",
    "plt.bar(x, y)\n"
   ],
   "outputs": [
    {
     "output_type": "execute_result",
     "data": {
      "text/plain": [
       "<BarContainer object of 33 artists>"
      ]
     },
     "metadata": {},
     "execution_count": 1
    },
    {
     "output_type": "display_data",
     "data": {
      "text/plain": [
       "<Figure size 1080x504 with 1 Axes>"
      ],
      "image/png": "[encoded data removed]"
     },
     "metadata": {
      "needs_background": "light"
     }
    }
   ],
   "metadata": {}
  }
 ],
 "metadata": {
  "orig_nbformat": 4,
  "language_info": {
   "name": "python",
   "version": "3.8.0",
   "mimetype": "text/x-python",
   "codemirror_mode": {
    "name": "ipython",
    "version": 3
   },
   "pygments_lexer": "ipython3",
   "nbconvert_exporter": "python",
   "file_extension": ".py"
  },
  "kernelspec": {
   "name": "python3",
   "display_name": "Python 3.8.0 64-bit ('.venv')"
  },
  "interpreter": {
   "hash": "6926c7f1321ca1fe5bb091ffa85bfd2f1967eb96b033dfa3a772fcfece283da3"
  }
 },
 "nbformat": 4,
 "nbformat_minor": 2
}