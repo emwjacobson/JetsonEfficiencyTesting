{
 "metadata": {
  "language_info": {
   "codemirror_mode": {
    "name": "ipython",
    "version": 3
   },
   "file_extension": ".py",
   "mimetype": "text/x-python",
   "name": "python",
   "nbconvert_exporter": "python",
   "pygments_lexer": "ipython3",
   "version": "3.8.0"
  },
  "orig_nbformat": 2,
  "kernelspec": {
   "name": "python3",
   "display_name": "Python 3.8.0 64-bit ('.venv': venv)"
  },
  "metadata": {
   "interpreter": {
    "hash": "3f51cb7c77d18eeae37d8743e6a8965b321790527a9d46ec999dcb7b2a990bf5"
   }
  },
  "interpreter": {
   "hash": "6926c7f1321ca1fe5bb091ffa85bfd2f1967eb96b033dfa3a772fcfece283da3"
  }
 },
 "nbformat": 4,
 "nbformat_minor": 2,
 "cells": [
  {
   "cell_type": "markdown",
   "source": [
    "# Goal\n",
    "\n",
    "The goal of this notebook is to compare the efficiency, measured in flops per watt, of the different GPU frequencies that the AGX allows. Also comparing any difference running the tests with tensor cores enabled and disabled."
   ],
   "metadata": {}
  },
  {
   "cell_type": "code",
   "execution_count": 1,
   "source": [
    "# Data Preprocessing\n",
    "\n",
    "import os\n",
    "\n",
    "path = \"./data/AGX/square_all_frequency/\"\n",
    "files = os.listdir(path)\n",
    "\n",
    "data = []\n",
    "\n",
    "for file_name in files:\n",
    "    temp = {\n",
    "        # Inputs\n",
    "        \"device\": \"\",\n",
    "        \"datatype\": \"\",\n",
    "        \"matrix_size\": -1,\n",
    "        \"tensor\": None,\n",
    "        \"gpu_frequency\": -1,\n",
    "\n",
    "        # Results\n",
    "        \"power_usage\": [],\n",
    "        \"flops\": -1,\n",
    "        \n",
    "        # Calculated Results\n",
    "        \"avg_power\": -1,\n",
    "        \"flops_per_watt\": -1\n",
    "    }\n",
    "    with open(path+file_name, \"r\") as f:\n",
    "        temp['device'], temp['datatype'], temp['matrix_size'], temp['tensor'], temp['gpu_frequency'] = file_name.split(\".\")[0].split(\"-\")\n",
    "        temp['matrix_size'] = float(temp['matrix_size'])\n",
    "        temp['tensor'] = True if temp['tensor'].lower() == \"tensor\" else False\n",
    "        temp['gpu_frequency'] = float(temp['gpu_frequency'])\n",
    "\n",
    "        file_data = f.readlines()\n",
    "\n",
    "        _, temp['power_usage'] = zip(*[d.strip().split(\",\") for d in file_data[:-1]])\n",
    "        temp['power_usage'] = list(map(float, temp['power_usage']))\n",
    "        temp['avg_power'] = sum(temp['power_usage'])/len(temp['power_usage'])\n",
    "\n",
    "        temp['flops'] = float(file_data[-1])\n",
    "\n",
    "        temp['flops_per_watt'] = temp['flops'] / temp['avg_power']\n",
    "    \n",
    "    data.append(temp)"
   ],
   "outputs": [],
   "metadata": {
    "tags": []
   }
  },
  {
   "cell_type": "code",
   "execution_count": 2,
   "source": [
    "import matplotlib.pyplot as plt\n",
    "import numpy as np\n",
    "%matplotlib widget\n",
    "import ipywidgets as widgets\n",
    "from IPython.display import display\n",
    "plt.ion()\n",
    "\n",
    "datatype = widgets.Dropdown(options=[\"half\", \"float\", \"double\"], value=\"float\", description=\"Datatype\")\n",
    "y_opt = widgets.Dropdown(options=[\"avg_power\", \"flops\", \"flops_per_watt\"], value=\"flops_per_watt\", description=\"y axis\")\n",
    "\n",
    "output = widgets.Output()\n",
    "\n",
    "fig, ax = plt.subplots(1, 2, figsize=(20, 5), sharey=True, sharex=True)\n",
    "\n",
    "search_tensor = {\n",
    "    \"datatype\": datatype.value,\n",
    "    \"gpu_frequency\": 0,\n",
    "    \"tensor\": True\n",
    "}\n",
    "\n",
    "search_nontensor = {\n",
    "    \"datatype\": datatype.value,\n",
    "    \"gpu_frequency\": 0,\n",
    "    \"tensor\": False\n",
    "}\n",
    "\n",
    "search_x = \"matrix_size\"\n",
    "search_y = y_opt.value\n",
    "\n",
    "def refresh_values():\n",
    "    for idx, f in enumerate([114750000, 216750000, 318750000, 420750000, 522750000, 624750000, 675750000, 828750000, 905250000, 1032750000, 1198500000, 1236750000, 1338750000, 1377000000]):\n",
    "        search_tensor[\"gpu_frequency\"] = f\n",
    "        search_nontensor[\"gpu_frequency\"] = f\n",
    "        filtered_tensor = [d for d in data if search_tensor.items() <= d.items()]\n",
    "        filtered_nontensor = [d for d in data if search_nontensor.items() <= d.items()]\n",
    "        x, y = [[],[]], [[],[]]\n",
    "        x[0], y[0] = zip(*sorted([(r[search_x], r[search_y]) for r in filtered_tensor], key=lambda d : d[0]))\n",
    "        x[1], y[1] = zip(*sorted([(r[search_x], r[search_y]) for r in filtered_nontensor], key=lambda d : d[0]))\n",
    "        for i in range(2):\n",
    "            ax[i].plot(x[i], y[i], label=f\"{f/1e9:.2f} GHz\", linestyle='--' if idx % 2 else '-')\n",
    "            ax[i].set_title(f\"Tensor Cores {'Enabled' if i == 0 else 'Disabled'}\")\n",
    "            ax[i].legend(loc=\"upper left\")\n",
    "            ax[i].set_xticks(np.arange(0, 2049, 128))\n",
    "\n",
    "def change_datatype(change):\n",
    "    search_tensor[\"datatype\"] = change[\"new\"]\n",
    "    search_nontensor[\"datatype\"] = change[\"new\"]\n",
    "    ax[0].clear()\n",
    "    ax[1].clear()\n",
    "    refresh_values()\n",
    "\n",
    "def update_y(change):\n",
    "    global search_y\n",
    "    search_y = change[\"new\"]\n",
    "    ax[0].clear()\n",
    "    ax[1].clear()\n",
    "    refresh_values()\n",
    "\n",
    "y_opt.observe(update_y, names=\"value\")\n",
    "datatype.observe(change_datatype, names=\"value\")\n",
    "\n",
    "display(\n",
    "    widgets.HBox([\n",
    "        widgets.VBox([datatype]),\n",
    "        widgets.VBox([y_opt]),\n",
    "        widgets.VBox([output])\n",
    "    ])\n",
    ")\n",
    "\n",
    "refresh_values()\n",
    "plt.show()"
   ],
   "outputs": [
    {
     "output_type": "display_data",
     "data": {
      "text/plain": [
       "Canvas(toolbar=Toolbar(toolitems=[('Home', 'Reset original view', 'home', 'home'), ('Back', 'Back to previous …"
      ],
      "application/vnd.jupyter.widget-view+json": {
       "version_major": 2,
       "version_minor": 0,
       "model_id": "20db1fa8be41499b9f655fff06774b4c"
      }
     },
     "metadata": {}
    },
    {
     "output_type": "display_data",
     "data": {
      "text/plain": [
       "HBox(children=(VBox(children=(Dropdown(description='Datatype', index=1, options=('half', 'float', 'double'), v…"
      ],
      "application/vnd.jupyter.widget-view+json": {
       "version_major": 2,
       "version_minor": 0,
       "model_id": "b6dc7ea5a34a43459e28d99ff21032b1"
      }
     },
     "metadata": {}
    }
   ],
   "metadata": {}
  }
 ]
}