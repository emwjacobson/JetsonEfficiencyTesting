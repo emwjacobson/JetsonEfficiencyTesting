{
 "metadata": {
  "language_info": {
   "codemirror_mode": {
    "name": "ipython",
    "version": 3
   },
   "file_extension": ".py",
   "mimetype": "text/x-python",
   "name": "python",
   "nbconvert_exporter": "python",
   "pygments_lexer": "ipython3",
   "version": "3.8.0"
  },
  "orig_nbformat": 2,
  "kernelspec": {
   "name": "python3",
   "display_name": "Python 3.8.0 64-bit ('.venv': venv)"
  },
  "metadata": {
   "interpreter": {
    "hash": "3f51cb7c77d18eeae37d8743e6a8965b321790527a9d46ec999dcb7b2a990bf5"
   }
  },
  "interpreter": {
   "hash": "6926c7f1321ca1fe5bb091ffa85bfd2f1967eb96b033dfa3a772fcfece283da3"
  }
 },
 "nbformat": 4,
 "nbformat_minor": 2,
 "cells": [
  {
   "cell_type": "code",
   "execution_count": null,
   "source": [],
   "outputs": [],
   "metadata": {}
  },
  {
   "cell_type": "markdown",
   "source": [
    "Create a virtual environment for Python to run in:\n",
    "\n",
    "`$ python3.8 -m venv .venv`\n",
    "\n",
    "Activate the virtual environment\n",
    "\n",
    "`$ source .venv/bin/activate`\n",
    "\n",
    "Update pip and setuptools\n",
    "\n",
    "`$ pip install --upgrade pip setuptools`\n",
    "\n",
    "Install requirements\n",
    "\n",
    "`$ pip install -r requirements.txt`\n"
   ],
   "metadata": {}
  },
  {
   "cell_type": "markdown",
   "source": [
    "# Research\n",
    "\n",
    "The initial goal is to determine the different variables that we can change to see how effieiency changes.\n",
    "As of now, these are:\n",
    "- GPU Frequency\n",
    "- CPU Frequency\n",
    "- Memory Frequency\n",
    "- Matrix Size\n",
    "- Deep Learning Accelerators (DLAs)\n",
    "- Tensor Cores\n",
    "- Data Types\n",
    "\n",
    "\n",
    "## AGX Info\n",
    "\n",
    "For the AGX all combinations of the 14 GPU frequencies, square matrix sizes (from 64 to 2048 with steps of 64 (32 total tests)), enabling and disabling the tensor cores, as well as the 3 data types (half, float, double).\n",
    "\n",
    "### System Info\n",
    "\n",
    "```\n",
    "$ cat /etc/nv_tegra_release \n",
    "# R32 (release), REVISION: 4.4, GCID: 23942405, BOARD: t186ref, EABI: aarch64, DATE: Fri Oct 16 19:37:08 UTC 2020\n",
    "```\n",
    "\n",
    "```\n",
    "$ nvcc -V\n",
    "nvcc: NVIDIA (R) Cuda compiler driver\n",
    "Copyright (c) 2005-2019 NVIDIA Corporation\n",
    "Built on Wed_Oct_23_21:14:42_PDT_2019\n",
    "Cuda compilation tools, release 10.2, V10.2.89\n",
    "```\n",
    "\n",
    "## Nano Info\n",
    "\n",
    "**todo**\n",
    "\n",
    "### System Info\n",
    "\n",
    "```\n",
    "todo\n",
    "```"
   ],
   "metadata": {}
  },
  {
   "cell_type": "markdown",
   "source": [
    "# Benchmarking Procedures\n",
    "\n",
    "The `benchmark.cu` file is used for benchmarking the Jetson boards using various options.\n",
    "\n",
    "Before each test, the CPU min/max frequency is set to it's maximum frequency (can also be changed later for more power usage info).\n",
    "\n",
    "```\n",
    "AGX$ echo \"2265600\" | sudo tee /sys/devices/system/cpu/cpu0/cpufreq/scaling_{min,max}_freq\n",
    "```\n",
    "\n",
    "The GPU frequency is then set\n",
    "\n",
    "### AGX\n",
    "```\n",
    "# All available frequencies: 114750000 216750000 318750000 420750000 522750000 624750000 675750000 828750000 905250000 1032750000 1198500000 1236750000 1338750000 1377000000\n",
    "$ echo \"1377000000\" | sudo tee /sys/devices/17000000.gv11b/devfreq/17000000.gv11b/{min,max}_freq\n",
    "```\n",
    "\n",
    "### Nano\n",
    "```\n",
    "$ todo\n",
    "```\n",
    "\n",
    "**Note** On the AGX, the fan ramp speed needs to be changed to make the fan more responsive when set.\n",
    "\n",
    "```\n",
    "AGX$ echo \"5\" | sudo tee /sys/devices/pwm-fan/step_time\n",
    "```\n",
    "\n",
    "After the GPU and CPU frequencies have been set, the benchmark can be run.\n",
    "\n",
    "```\n",
    "$ sudo ./gpu_benchmark\n",
    "```"
   ],
   "metadata": {}
  },
  {
   "cell_type": "code",
   "execution_count": 1,
   "source": [
    "# Data Preprocessing\n",
    "\n",
    "import os\n",
    "\n",
    "path = \"./data/AGX/\"\n",
    "files = os.listdir(path)\n",
    "\n",
    "data = []\n",
    "\n",
    "for file_name in files:\n",
    "    temp = {\n",
    "        # Inputs\n",
    "        \"datatype\": \"\",\n",
    "        \"matrix_size\": -1,\n",
    "        \"tensor\": None,\n",
    "        \"gpu_frequency\": -1,\n",
    "\n",
    "        # Results\n",
    "        \"power_usage\": [],\n",
    "        \"flops\": -1,\n",
    "        \n",
    "        # Calculated Results\n",
    "        \"avg_power\": -1,\n",
    "        \"flops_per_watt\": -1\n",
    "    }\n",
    "    with open(path+file_name, \"r\") as f:\n",
    "        temp['datatype'], temp['matrix_size'], temp['tensor'], temp['gpu_frequency'] = file_name.split(\".\")[0].split(\"-\")[1:]\n",
    "        temp['matrix_size'] = float(temp['matrix_size'])\n",
    "        temp['tensor'] = True if temp['tensor'].lower() == \"tensor\" else False\n",
    "        temp['gpu_frequency'] = float(temp['gpu_frequency'])\n",
    "\n",
    "        file_data = f.readlines()\n",
    "\n",
    "        _, temp['power_usage'] = zip(*[d.strip().split(\",\") for d in file_data[:-1]])\n",
    "        temp['power_usage'] = list(map(float, temp['power_usage']))\n",
    "        temp['avg_power'] = sum(temp['power_usage'])/len(temp['power_usage'])\n",
    "\n",
    "        temp['flops'] = float(file_data[-1])\n",
    "\n",
    "        temp['flops_per_watt'] = temp['flops'] / temp['avg_power']\n",
    "    \n",
    "    data.append(temp)"
   ],
   "outputs": [],
   "metadata": {
    "tags": []
   }
  },
  {
   "cell_type": "code",
   "execution_count": 6,
   "source": [
    "import matplotlib.pyplot as plt\n",
    "import numpy as np\n",
    "%matplotlib widget\n",
    "import ipywidgets as widgets\n",
    "from IPython.display import display\n",
    "plt.ion()\n",
    "\n",
    "gpu_frequency = widgets.Dropdown(options=[114750000, 216750000, 318750000, 420750000, 522750000, 624750000, 675750000, 828750000, 905250000, 1032750000, 1198500000, 1236750000, 1338750000, 1377000000], value=1377000000, description=\"GPU Frequency\")\n",
    "datatype = widgets.Dropdown(options=[\"half\", \"float\", \"double\"], value=\"float\", description=\"Datatype\")\n",
    "y_opt = widgets.Dropdown(options=[\"avg_power\", \"flops\", \"flops_per_watt\"], value=\"flops_per_watt\", description=\"y axis\")\n",
    "\n",
    "output = widgets.Output()\n",
    "\n",
    "fig, ax = plt.subplots(1, 2, figsize=(20, 5), sharey=True)\n",
    "\n",
    "search_tensor = {\n",
    "    \"datatype\": datatype.value,\n",
    "    \"gpu_frequency\": gpu_frequency.value,\n",
    "    \"tensor\": True\n",
    "}\n",
    "\n",
    "search_nontensor = {\n",
    "    \"datatype\": datatype.value,\n",
    "    \"gpu_frequency\": gpu_frequency.value,\n",
    "    \"tensor\": False\n",
    "}\n",
    "\n",
    "search_x = \"matrix_size\"\n",
    "search_y = y_opt.value\n",
    "\n",
    "def refresh_values():\n",
    "    filtered_tensor = [d for d in data if search_tensor.items() <= d.items()]\n",
    "    filtered_nontensor = [d for d in data if search_nontensor.items() <= d.items()]\n",
    "    x, y = [[],[]], [[],[]]\n",
    "    x[0], y[0] = zip(*sorted([(r[search_x], r[search_y]) for r in filtered_tensor], key=lambda d : d[0]))\n",
    "    x[1], y[1] = zip(*sorted([(r[search_x], r[search_y]) for r in filtered_nontensor], key=lambda d : d[0]))\n",
    "    for i in range(2):\n",
    "        ax[i].clf()\n",
    "        ax[i].set_title(f\"Tensor Cores {'Enabled' if i == 0 else 'Disabled'}\")\n",
    "        ax[i].plot(x[i], y[i])\n",
    "        ax[i].set_xticks(np.arange(0, 2049, 128))\n",
    "\n",
    "def change_gpu_frequency(change):\n",
    "    search_tensor[\"gpu_frequency\"] = change[\"new\"]\n",
    "    search_nontensor[\"gpu_frequency\"] = change[\"new\"]\n",
    "    refresh_values()\n",
    "\n",
    "def change_datatype(change):\n",
    "    search_tensor[\"datatype\"] = change[\"new\"]\n",
    "    search_nontensor[\"datatype\"] = change[\"new\"]\n",
    "    refresh_values()\n",
    "\n",
    "def update_y(change):\n",
    "    global search_y\n",
    "    search_y = change[\"new\"]\n",
    "    refresh_values()\n",
    "\n",
    "gpu_frequency.observe(change_gpu_frequency, names=\"value\")\n",
    "datatype.observe(change_datatype, names=\"value\")\n",
    "\n",
    "y_opt.observe(update_y, names=\"value\")\n",
    "\n",
    "display(\n",
    "    widgets.HBox([\n",
    "        widgets.VBox([gpu_frequency, datatype]),\n",
    "        widgets.VBox([y_opt]),\n",
    "        widgets.VBox([output])\n",
    "    ])\n",
    ")\n",
    "\n",
    "refresh_values()\n",
    "plt.show()"
   ],
   "outputs": [
    {
     "output_type": "display_data",
     "data": {
      "text/plain": [
       "Canvas(toolbar=Toolbar(toolitems=[('Home', 'Reset original view', 'home', 'home'), ('Back', 'Back to previous …"
      ],
      "application/vnd.jupyter.widget-view+json": {
       "version_major": 2,
       "version_minor": 0,
       "model_id": "efd732a38f6c465e8883bee39e885f47"
      }
     },
     "metadata": {}
    },
    {
     "output_type": "display_data",
     "data": {
      "text/plain": [
       "HBox(children=(VBox(children=(Dropdown(description='GPU Frequency', index=13, options=(114750000, 216750000, 3…"
      ],
      "application/vnd.jupyter.widget-view+json": {
       "version_major": 2,
       "version_minor": 0,
       "model_id": "361e377df72a4631b7e3fa25459dd729"
      }
     },
     "metadata": {}
    },
    {
     "output_type": "error",
     "ename": "AttributeError",
     "evalue": "'AxesSubplot' object has no attribute 'clf'",
     "traceback": [
      "\u001b[0;31m---------------------------------------------------------------------------\u001b[0m",
      "\u001b[0;31mAttributeError\u001b[0m                            Traceback (most recent call last)",
      "\u001b[0;32m/tmp/ipykernel_7420/2722481853.py\u001b[0m in \u001b[0;36m<module>\u001b[0;34m\u001b[0m\n\u001b[1;32m     69\u001b[0m )\n\u001b[1;32m     70\u001b[0m \u001b[0;34m\u001b[0m\u001b[0m\n\u001b[0;32m---> 71\u001b[0;31m \u001b[0mrefresh_values\u001b[0m\u001b[0;34m(\u001b[0m\u001b[0;34m)\u001b[0m\u001b[0;34m\u001b[0m\u001b[0;34m\u001b[0m\u001b[0m\n\u001b[0m\u001b[1;32m     72\u001b[0m \u001b[0mplt\u001b[0m\u001b[0;34m.\u001b[0m\u001b[0mshow\u001b[0m\u001b[0;34m(\u001b[0m\u001b[0;34m)\u001b[0m\u001b[0;34m\u001b[0m\u001b[0;34m\u001b[0m\u001b[0m\n",
      "\u001b[0;32m/tmp/ipykernel_7420/2722481853.py\u001b[0m in \u001b[0;36mrefresh_values\u001b[0;34m()\u001b[0m\n\u001b[1;32m     36\u001b[0m     \u001b[0mx\u001b[0m\u001b[0;34m[\u001b[0m\u001b[0;36m1\u001b[0m\u001b[0;34m]\u001b[0m\u001b[0;34m,\u001b[0m \u001b[0my\u001b[0m\u001b[0;34m[\u001b[0m\u001b[0;36m1\u001b[0m\u001b[0;34m]\u001b[0m \u001b[0;34m=\u001b[0m \u001b[0mzip\u001b[0m\u001b[0;34m(\u001b[0m\u001b[0;34m*\u001b[0m\u001b[0msorted\u001b[0m\u001b[0;34m(\u001b[0m\u001b[0;34m[\u001b[0m\u001b[0;34m(\u001b[0m\u001b[0mr\u001b[0m\u001b[0;34m[\u001b[0m\u001b[0msearch_x\u001b[0m\u001b[0;34m]\u001b[0m\u001b[0;34m,\u001b[0m \u001b[0mr\u001b[0m\u001b[0;34m[\u001b[0m\u001b[0msearch_y\u001b[0m\u001b[0;34m]\u001b[0m\u001b[0;34m)\u001b[0m \u001b[0;32mfor\u001b[0m \u001b[0mr\u001b[0m \u001b[0;32min\u001b[0m \u001b[0mfiltered_nontensor\u001b[0m\u001b[0;34m]\u001b[0m\u001b[0;34m,\u001b[0m \u001b[0mkey\u001b[0m\u001b[0;34m=\u001b[0m\u001b[0;32mlambda\u001b[0m \u001b[0md\u001b[0m \u001b[0;34m:\u001b[0m \u001b[0md\u001b[0m\u001b[0;34m[\u001b[0m\u001b[0;36m0\u001b[0m\u001b[0;34m]\u001b[0m\u001b[0;34m)\u001b[0m\u001b[0;34m)\u001b[0m\u001b[0;34m\u001b[0m\u001b[0;34m\u001b[0m\u001b[0m\n\u001b[1;32m     37\u001b[0m     \u001b[0;32mfor\u001b[0m \u001b[0mi\u001b[0m \u001b[0;32min\u001b[0m \u001b[0mrange\u001b[0m\u001b[0;34m(\u001b[0m\u001b[0;36m2\u001b[0m\u001b[0;34m)\u001b[0m\u001b[0;34m:\u001b[0m\u001b[0;34m\u001b[0m\u001b[0;34m\u001b[0m\u001b[0m\n\u001b[0;32m---> 38\u001b[0;31m         \u001b[0max\u001b[0m\u001b[0;34m[\u001b[0m\u001b[0mi\u001b[0m\u001b[0;34m]\u001b[0m\u001b[0;34m.\u001b[0m\u001b[0mclf\u001b[0m\u001b[0;34m(\u001b[0m\u001b[0;34m)\u001b[0m\u001b[0;34m\u001b[0m\u001b[0;34m\u001b[0m\u001b[0m\n\u001b[0m\u001b[1;32m     39\u001b[0m         \u001b[0max\u001b[0m\u001b[0;34m[\u001b[0m\u001b[0mi\u001b[0m\u001b[0;34m]\u001b[0m\u001b[0;34m.\u001b[0m\u001b[0mset_title\u001b[0m\u001b[0;34m(\u001b[0m\u001b[0;34mf\"Tensor Cores {'Enabled' if i == 0 else 'Disabled'}\"\u001b[0m\u001b[0;34m)\u001b[0m\u001b[0;34m\u001b[0m\u001b[0;34m\u001b[0m\u001b[0m\n\u001b[1;32m     40\u001b[0m         \u001b[0max\u001b[0m\u001b[0;34m[\u001b[0m\u001b[0mi\u001b[0m\u001b[0;34m]\u001b[0m\u001b[0;34m.\u001b[0m\u001b[0mplot\u001b[0m\u001b[0;34m(\u001b[0m\u001b[0mx\u001b[0m\u001b[0;34m[\u001b[0m\u001b[0mi\u001b[0m\u001b[0;34m]\u001b[0m\u001b[0;34m,\u001b[0m \u001b[0my\u001b[0m\u001b[0;34m[\u001b[0m\u001b[0mi\u001b[0m\u001b[0;34m]\u001b[0m\u001b[0;34m)\u001b[0m\u001b[0;34m\u001b[0m\u001b[0;34m\u001b[0m\u001b[0m\n",
      "\u001b[0;31mAttributeError\u001b[0m: 'AxesSubplot' object has no attribute 'clf'"
     ]
    }
   ],
   "metadata": {}
  },
  {
   "cell_type": "code",
   "execution_count": 12,
   "source": [
    "datatype = widgets.Dropdown(options=[\"half\", \"float\", \"double\"], value=\"float\", description=\"Datatype\")\n",
    "y_opt = widgets.Dropdown(options=[\"avg_power\", \"flops\", \"flops_per_watt\"], value=\"flops_per_watt\", description=\"y axis\")\n",
    "\n",
    "output = widgets.Output()\n",
    "\n",
    "fig, ax = plt.subplots(1, 2, figsize=(20, 5), sharey=True, sharex=True)\n",
    "\n",
    "search_tensor = {\n",
    "    \"datatype\": datatype.value,\n",
    "    \"gpu_frequency\": 0,\n",
    "    \"tensor\": True\n",
    "}\n",
    "\n",
    "search_nontensor = {\n",
    "    \"datatype\": datatype.value,\n",
    "    \"gpu_frequency\": 0,\n",
    "    \"tensor\": False\n",
    "}\n",
    "\n",
    "search_x = \"matrix_size\"\n",
    "search_y = y_opt.value\n",
    "\n",
    "def refresh_values():\n",
    "    for f in [114750000, 216750000, 318750000, 420750000, 522750000, 624750000, 675750000, 828750000, 905250000, 1032750000, 1198500000, 1236750000, 1338750000, 1377000000]:\n",
    "        search_tensor[\"gpu_frequency\"] = f\n",
    "        search_nontensor[\"gpu_frequency\"] = f\n",
    "        filtered_tensor = [d for d in data if search_tensor.items() <= d.items()]\n",
    "        filtered_nontensor = [d for d in data if search_nontensor.items() <= d.items()]\n",
    "        x, y = [[],[]], [[],[]]\n",
    "        x[0], y[0] = zip(*sorted([(r[search_x], r[search_y]) for r in filtered_tensor], key=lambda d : d[0]))\n",
    "        x[1], y[1] = zip(*sorted([(r[search_x], r[search_y]) for r in filtered_nontensor], key=lambda d : d[0]))\n",
    "        for i in range(2):\n",
    "            ax[i].plot(x[i], y[i], label=f\"{f/1e9:.2f} GHz\")\n",
    "            ax[i].set_title(f\"Tensor Cores {'Enabled' if i == 0 else 'Disabled'}\")\n",
    "            ax[i].legend(loc=\"upper left\")\n",
    "            ax[i].set_xticks(np.arange(0, 2049, 128))\n",
    "\n",
    "def change_datatype(change):\n",
    "    search_tensor[\"datatype\"] = change[\"new\"]\n",
    "    search_nontensor[\"datatype\"] = change[\"new\"]\n",
    "    ax[0].clear()\n",
    "    ax[1].clear()\n",
    "    refresh_values()\n",
    "\n",
    "def update_y(change):\n",
    "    global search_y\n",
    "    search_y = change[\"new\"]\n",
    "    ax[0].clear()\n",
    "    ax[1].clear()\n",
    "    refresh_values()\n",
    "\n",
    "y_opt.observe(update_y, names=\"value\")\n",
    "datatype.observe(change_datatype, names=\"value\")\n",
    "\n",
    "display(\n",
    "    widgets.HBox([\n",
    "        widgets.VBox([datatype]),\n",
    "        widgets.VBox([y_opt]),\n",
    "        widgets.VBox([output])\n",
    "    ])\n",
    ")\n",
    "\n",
    "refresh_values()\n",
    "plt.show()"
   ],
   "outputs": [
    {
     "output_type": "display_data",
     "data": {
      "text/plain": [
       "Canvas(toolbar=Toolbar(toolitems=[('Home', 'Reset original view', 'home', 'home'), ('Back', 'Back to previous …"
      ],
      "application/vnd.jupyter.widget-view+json": {
       "version_major": 2,
       "version_minor": 0,
       "model_id": "4caf3bf535b944909dec94be22b01395"
      }
     },
     "metadata": {}
    },
    {
     "output_type": "display_data",
     "data": {
      "text/plain": [
       "HBox(children=(VBox(children=(Dropdown(description='Datatype', index=1, options=('half', 'float', 'double'), v…"
      ],
      "application/vnd.jupyter.widget-view+json": {
       "version_major": 2,
       "version_minor": 0,
       "model_id": "ccdb59e691434e7fb6c9e8843a081110"
      }
     },
     "metadata": {}
    }
   ],
   "metadata": {}
  },
  {
   "cell_type": "code",
   "execution_count": 4,
   "source": [
    "# [114750000, 216750000, 318750000, 420750000, 522750000, 624750000, 675750000, 828750000, 905250000, 1032750000, 119850000, 1236750000, 133875000, 1377000000]\n",
    "search_tensor = {\n",
    "    \"datatype\": \"float\",\n",
    "    \"gpu_frequency\": 1377000000,\n",
    "    \"tensor\": True\n",
    "}\n",
    "\n",
    "search_nontensor = {\n",
    "    \"datatype\": \"float\",\n",
    "    \"gpu_frequency\": 1377000000,\n",
    "    \"tensor\": False\n",
    "}\n",
    "\n",
    "results_tensor = [d for d in data if search_tensor.items() <= d.items()]\n",
    "results_nontensor = [d for d in data if search_nontensor.items() <= d.items()]\n",
    "\n",
    "for m_size in range(64, 2049, 64):\n",
    "    t = next(r for r in results_tensor if r['matrix_size'] == m_size)\n",
    "    nt = next(r for r in results_nontensor if r['matrix_size'] == m_size)\n",
    "\n",
    "    res = t['flops_per_watt']/nt['flops_per_watt']\n",
    "    \n",
    "    print(t['datatype'], t['gpu_frequency'], t['matrix_size'], res)"
   ],
   "outputs": [
    {
     "output_type": "stream",
     "name": "stdout",
     "text": [
      "float 1377000000.0 64.0 0.9294675997623285\n",
      "float 1377000000.0 128.0 1.0100375330024962\n",
      "float 1377000000.0 192.0 0.993580271289533\n",
      "float 1377000000.0 256.0 1.0004127182593558\n",
      "float 1377000000.0 320.0 0.9931683155671189\n",
      "float 1377000000.0 384.0 0.9982361431035907\n",
      "float 1377000000.0 448.0 1.0011837552417064\n",
      "float 1377000000.0 512.0 1.0016213681790727\n",
      "float 1377000000.0 576.0 0.9949193534240564\n",
      "float 1377000000.0 640.0 0.9936327318282169\n",
      "float 1377000000.0 704.0 1.0003020751877894\n",
      "float 1377000000.0 768.0 0.9960521623572154\n",
      "float 1377000000.0 832.0 1.0094845347702088\n",
      "float 1377000000.0 896.0 1.001199361354049\n",
      "float 1377000000.0 960.0 0.9970241841484568\n",
      "float 1377000000.0 1024.0 1.0055879846252083\n",
      "float 1377000000.0 1088.0 0.9972686160760723\n",
      "float 1377000000.0 1152.0 0.9989444972230163\n",
      "float 1377000000.0 1216.0 1.0008076632295422\n",
      "float 1377000000.0 1280.0 1.0064465739487443\n",
      "float 1377000000.0 1344.0 0.9897112892161065\n",
      "float 1377000000.0 1408.0 1.0027391306962667\n",
      "float 1377000000.0 1472.0 0.9979966223368636\n",
      "float 1377000000.0 1536.0 0.9975413475384689\n",
      "float 1377000000.0 1600.0 0.9920528046428654\n",
      "float 1377000000.0 1664.0 1.0015476224285242\n",
      "float 1377000000.0 1728.0 1.001195217641545\n",
      "float 1377000000.0 1792.0 1.0001394725625345\n",
      "float 1377000000.0 1856.0 1.0030833658927945\n",
      "float 1377000000.0 1920.0 0.9784351659437291\n",
      "float 1377000000.0 1984.0 0.972593420992484\n",
      "float 1377000000.0 2048.0 0.9985777280456849\n"
     ]
    }
   ],
   "metadata": {
    "tags": []
   }
  }
 ]
}