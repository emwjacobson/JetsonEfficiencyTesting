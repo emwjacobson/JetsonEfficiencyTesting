{
 "metadata": {
  "language_info": {
   "codemirror_mode": {
    "name": "ipython",
    "version": 3
   },
   "file_extension": ".py",
   "mimetype": "text/x-python",
   "name": "python",
   "nbconvert_exporter": "python",
   "pygments_lexer": "ipython3",
   "version": "3.6.9"
  },
  "orig_nbformat": 2,
  "kernelspec": {
   "name": "python369jvsc74a57bd03f51cb7c77d18eeae37d8743e6a8965b321790527a9d46ec999dcb7b2a990bf5",
   "display_name": "Python 3.6.9 64-bit ('.venv')"
  }
 },
 "nbformat": 4,
 "nbformat_minor": 2,
 "cells": [
  {
   "source": [
    "# Research\n",
    "\n",
    "The initial goal is to determine the different variables that we can change to see how effieiency changes.\n",
    "As of now, these are:\n",
    "- GPU Frequency\n",
    "- CPU Frequency\n",
    "- Matrix Size\n",
    "- Deep Learning Accelerators (DLAs)\n",
    "- Tensor Cores\n",
    "- Data Types (Half, Float, Double)\n",
    "\n",
    "Ideally the goal would be to test all combinations of them, but as there are over 30,000 combinations it's unreasonable."
   ],
   "cell_type": "markdown",
   "metadata": {}
  },
  {
   "source": [],
   "cell_type": "code",
   "metadata": {},
   "execution_count": null,
   "outputs": []
  }
 ]
}