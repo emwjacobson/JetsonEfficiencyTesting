{
 "cells": [
  {
   "cell_type": "markdown",
   "source": [
    "# Goal\n",
    "\n",
    "The goal of this notebook is to look at the power usage for different, non-square, matrices."
   ],
   "metadata": {}
  },
  {
   "cell_type": "code",
   "execution_count": 1,
   "source": [
    "# Data preprocessing\n",
    "\n",
    "import os\n",
    "\n",
    "FREQUENCY = 905250000 # Available Frequencies: 905250000 and 1377000000\n",
    "DEVICE = \"AGX\"\n",
    "\n",
    "path = \"./data/\"+DEVICE+\"/non-square/\"+str(FREQUENCY)+\"/\"\n",
    "\n",
    "files = os.listdir(path)\n",
    "\n",
    "data = []\n",
    "\n",
    "for file_name in files:\n",
    "  temp = {\n",
    "    # Inputs\n",
    "    \"device\": \"\",\n",
    "    \"datatype\": \"\",\n",
    "    \"matrix_rows\": -1,\n",
    "    \"matrix_cols\": -1,\n",
    "    \"tensor\": None,\n",
    "    \"gpu_frequency\": -1,\n",
    "\n",
    "    # Results\n",
    "    \"power_usage\": [],\n",
    "    \"flops\": -1,\n",
    "\n",
    "    # Calculates Results\n",
    "    \"avg_power\": -1,\n",
    "    \"flops_per_watt\": -1\n",
    "  }\n",
    "  with open(path+file_name) as f:\n",
    "    temp['device'], temp['datatype'], temp['matrix_rows'], temp['matrix_cols'], temp['tensor'], temp['gpu_frequency'] = file_name.split('.')[0].split('-')\n",
    "    temp['matrix_rows'] = int(temp['matrix_rows'])\n",
    "    temp['matrix_cols'] = int(temp['matrix_cols'])\n",
    "    temp['tensor'] = True if temp['tensor'] == \"tensor\" else False\n",
    "    temp['gpu_frequency'] = int(temp['gpu_frequency'])\n",
    "\n",
    "    file_data = f.readlines()\n",
    "\n",
    "    _, temp['power_usage'] = zip(*[d.strip().split(\",\") for d in file_data[1:-1]])\n",
    "    temp['power_usage'] = list(map(float, temp['power_usage']))\n",
    "    temp['avg_power'] = sum(temp['power_usage'])/len(temp['power_usage'])\n",
    "\n",
    "    temp['flops'] = float(file_data[-1])\n",
    "\n",
    "    temp['flops_per_watt'] = temp['flops'] / temp['avg_power']\n",
    "  data.append(temp)\n",
    "  \n",
    "print(len(data), \"files processed.\")"
   ],
   "outputs": [
    {
     "output_type": "stream",
     "name": "stdout",
     "text": [
      "4096 files processed.\n"
     ]
    }
   ],
   "metadata": {}
  },
  {
   "cell_type": "code",
   "execution_count": 78,
   "source": [
    "import matplotlib.pyplot as plt\n",
    "import numpy as np\n",
    "%matplotlib widget\n",
    "# import ipywidgets as widgets\n",
    "# from IPython.display import display\n",
    "# plt.ion()\n",
    "\n",
    "search = {\n",
    "    \"device\": DEVICE,\n",
    "    \"datatype\": \"float\",\n",
    "    \"matrix_rows\": -1, # 64-1024, step=64\n",
    "    # \"matrix_cols\": -1, # 8-2048, step=8\n",
    "    \"tensor\": True,\n",
    "    \"gpu_frequency\": FREQUENCY,\n",
    "}\n",
    "\n",
    "fig, ax = plt.subplots(1, 1, figsize=(10, 7))\n",
    "ax.set_xticks(range(0, 2048+1, 128))\n",
    "ax.set_title(\"Flops per Watt by Matrix Size\")\n",
    "ax.set_xlabel(\"Columns\")\n",
    "ax.set_ylabel(\"Flops\")\n",
    "# ax.set_prop_cycle('color', [plt.get_cmap('gist_rainbow')(1.*i/16) for i in range(16)])\n",
    "\n",
    "for row in range(64, 1024+1, 64):\n",
    "  search['matrix_rows'] = row\n",
    "  results = [d for d in data if search.items() <= d.items() ]\n",
    "  x, y = zip(*sorted([(r['matrix_cols'], r['flops_per_watt']) for r in results], key=lambda d : d[0]))\n",
    "  ax.plot(x, y, label=str(row)+\" rows\", linestyle='--' if row % 192 == False else '-.' if row % 128 == False else '-')\n",
    "\n",
    "ax.legend(loc='upper left')\n",
    "\n",
    "plt.show()"
   ],
   "outputs": [
    {
     "output_type": "display_data",
     "data": {
      "text/plain": [
       "Canvas(toolbar=Toolbar(toolitems=[('Home', 'Reset original view', 'home', 'home'), ('Back', 'Back to previous …"
      ],
      "application/vnd.jupyter.widget-view+json": {
       "version_major": 2,
       "version_minor": 0,
       "model_id": "c0144b70df704204a544c75dff25e49d"
      }
     },
     "metadata": {}
    }
   ],
   "metadata": {}
  }
 ],
 "metadata": {
  "orig_nbformat": 4,
  "language_info": {
   "name": "python",
   "version": "3.8.0",
   "mimetype": "text/x-python",
   "codemirror_mode": {
    "name": "ipython",
    "version": 3
   },
   "pygments_lexer": "ipython3",
   "nbconvert_exporter": "python",
   "file_extension": ".py"
  },
  "kernelspec": {
   "name": "python3",
   "display_name": "Python 3.8.0 64-bit ('.venv': venv)"
  },
  "interpreter": {
   "hash": "6926c7f1321ca1fe5bb091ffa85bfd2f1967eb96b033dfa3a772fcfece283da3"
  }
 },
 "nbformat": 4,
 "nbformat_minor": 2
}